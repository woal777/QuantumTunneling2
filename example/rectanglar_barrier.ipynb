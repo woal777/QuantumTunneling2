{
 "cells": [
  {
   "cell_type": "markdown",
   "metadata": {},
   "source": []
  },
  {
   "cell_type": "code",
   "execution_count": 6,
   "metadata": {
    "collapsed": true
   },
   "outputs": [],
   "source": [
    "from tunneling.main import Current, plt, np\n",
    "\n",
    "c = Current([0, 1, 0])\n",
    "x = np.linspace(1e-19, 3, 5222)\n",
    "for i in [1, 3, 7]:\n",
    "    c.dx = i * 6e-10\n",
    "    y = np.array([c.transmission(r + 0j) for r in x])\n",
    "    plt.plot(x, y)\n",
    "plt.show()\n"
   ]
  },
  {
   "cell_type": "markdown",
   "metadata": {},
   "source": [
    "you can compare with below data.\n",
    "\n",
    "https://upload.wikimedia.org/wikipedia/commons/thumb/0/0c/TvsE8.tif/lossy-page1-700px-TvsE8.tif.jpg"
   ]
  },
  {
   "cell_type": "markdown",
   "metadata": {},
   "source": [
    "Resonat-tunneling diode"
   ]
  },
  {
   "cell_type": "code",
   "execution_count": 12,
   "metadata": {},
   "outputs": [],
   "source": [
    "c = Current([0, 1, 0, 1, 0])\n",
    "x = np.linspace(1e-19, 3, 5222)\n",
    "for i in [1, 3, 7]:\n",
    "    c.dx = i * 2.5e-10\n",
    "    y = np.array([c.transmission(r + 0j) for r in x])\n",
    "    plt.plot(x, y)\n",
    "plt.show()\n"
   ]
  }
 ],
 "metadata": {
  "kernelspec": {
   "display_name": "Python 2",
   "language": "python",
   "name": "python2"
  },
  "language_info": {
   "codemirror_mode": {
    "name": "ipython",
    "version": 2
   },
   "file_extension": ".py",
   "mimetype": "text/x-python",
   "name": "python",
   "nbconvert_exporter": "python",
   "pygments_lexer": "ipython2",
   "version": "2.7.6"
  }
 },
 "nbformat": 4,
 "nbformat_minor": 0
}
