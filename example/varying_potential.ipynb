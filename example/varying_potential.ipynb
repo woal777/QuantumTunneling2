{
 "cells": [
  {
   "cell_type": "code",
   "execution_count": 6,
   "metadata": {
    "collapsed": false
   },
   "outputs": [
    {
     "name": "stdout",
     "output_type": "stream",
     "text": [
      "init\n"
     ]
    }
   ],
   "source": [
    "from tunneling.main import Current, np, plt\n",
    "\n",
    "fig = plt.figure()\n",
    "x = np.append(np.linspace(-1.5, -.2, 8), -np.logspace(-1, -3, 8))\n",
    "x = np.append(x, np.logspace(-3, -1, 8))\n",
    "x = np.append(x, np.linspace(.2, 1.5, 8))\n",
    "\n",
    "c = Current(np.array([0, *np.linspace(1, 1., 20), 0]))\n",
    "y = [abs(c.current(r)) for r in x]\n",
    "plt.semilogy(x, y)\n",
    "np.savetxt('rec.dat', np.array([x, y]).transpose())\n"
   ]
  },
  {
   "cell_type": "code",
   "execution_count": 8,
   "metadata": {},
   "outputs": [
    {
     "name": "stdout",
     "output_type": "stream",
     "text": [
      "init\n"
     ]
    }
   ],
   "source": [
    "c = Current(np.array([0, *np.linspace(1.5, .5, 20), 0]))\n",
    "y = [abs(c.current(r)) for r in x]\n",
    "plt.semilogy(x, y)\n"
   ]
  },
  {
   "cell_type": "code",
   "execution_count": 9,
   "metadata": {},
   "outputs": [
    {
     "name": "stdout",
     "output_type": "stream",
     "text": [
      "init\n"
     ]
    }
   ],
   "source": [
    "c = Current(np.array([0, *np.linspace(.5, 1.5, 20), 0]))\n",
    "y = [abs(c.current(r)) for r in x]\n",
    "plt.semilogy(x, y)\n",
    "plt.show()\n"
   ]
  },
  {
   "cell_type": "code",
   "execution_count": null,
   "metadata": {},
   "outputs": [],
   "source": []
  }
 ],
 "metadata": {
  "kernelspec": {
   "display_name": "Python 2",
   "language": "python",
   "name": "python2"
  },
  "language_info": {
   "codemirror_mode": {
    "name": "ipython",
    "version": 2
   },
   "file_extension": ".py",
   "mimetype": "text/x-python",
   "name": "python",
   "nbconvert_exporter": "python",
   "pygments_lexer": "ipython2",
   "version": "2.7.6"
  }
 },
 "nbformat": 4,
 "nbformat_minor": 0
}
